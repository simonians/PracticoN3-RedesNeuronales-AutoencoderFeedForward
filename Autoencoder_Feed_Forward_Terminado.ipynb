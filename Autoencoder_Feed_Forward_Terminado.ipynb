{
  "nbformat": 4,
  "nbformat_minor": 0,
  "metadata": {
    "colab": {
      "name": "Autoencoder Feed Forward Terminado",
      "provenance": [],
      "include_colab_link": true
    },
    "kernelspec": {
      "name": "python3",
      "display_name": "Python 3"
    },
    "widgets": {
      "application/vnd.jupyter.widget-state+json": {
        "2ffa99b2723b49bfb8a7a6c687702ae8": {
          "model_module": "@jupyter-widgets/controls",
          "model_name": "HBoxModel",
          "model_module_version": "1.5.0",
          "state": {
            "_view_name": "HBoxView",
            "_dom_classes": [],
            "_model_name": "HBoxModel",
            "_view_module": "@jupyter-widgets/controls",
            "_model_module_version": "1.5.0",
            "_view_count": null,
            "_view_module_version": "1.5.0",
            "box_style": "",
            "layout": "IPY_MODEL_97d8a33cc0da40ce8492cfd91ecad951",
            "_model_module": "@jupyter-widgets/controls",
            "children": [
              "IPY_MODEL_c5ab54de8ec84c1384eb11aaaa511f24",
              "IPY_MODEL_aa306cf508cd462c9eeeebc6e77b912b",
              "IPY_MODEL_2304e26434454a45b4ac232e94a3eac2"
            ]
          }
        },
        "97d8a33cc0da40ce8492cfd91ecad951": {
          "model_module": "@jupyter-widgets/base",
          "model_name": "LayoutModel",
          "model_module_version": "1.2.0",
          "state": {
            "_view_name": "LayoutView",
            "grid_template_rows": null,
            "right": null,
            "justify_content": null,
            "_view_module": "@jupyter-widgets/base",
            "overflow": null,
            "_model_module_version": "1.2.0",
            "_view_count": null,
            "flex_flow": null,
            "width": null,
            "min_width": null,
            "border": null,
            "align_items": null,
            "bottom": null,
            "_model_module": "@jupyter-widgets/base",
            "top": null,
            "grid_column": null,
            "overflow_y": null,
            "overflow_x": null,
            "grid_auto_flow": null,
            "grid_area": null,
            "grid_template_columns": null,
            "flex": null,
            "_model_name": "LayoutModel",
            "justify_items": null,
            "grid_row": null,
            "max_height": null,
            "align_content": null,
            "visibility": null,
            "align_self": null,
            "height": null,
            "min_height": null,
            "padding": null,
            "grid_auto_rows": null,
            "grid_gap": null,
            "max_width": null,
            "order": null,
            "_view_module_version": "1.2.0",
            "grid_template_areas": null,
            "object_position": null,
            "object_fit": null,
            "grid_auto_columns": null,
            "margin": null,
            "display": null,
            "left": null
          }
        },
        "c5ab54de8ec84c1384eb11aaaa511f24": {
          "model_module": "@jupyter-widgets/controls",
          "model_name": "HTMLModel",
          "model_module_version": "1.5.0",
          "state": {
            "_view_name": "HTMLView",
            "style": "IPY_MODEL_185327ae42844c77a0ade48bcb4692d0",
            "_dom_classes": [],
            "description": "",
            "_model_name": "HTMLModel",
            "placeholder": "​",
            "_view_module": "@jupyter-widgets/controls",
            "_model_module_version": "1.5.0",
            "value": "",
            "_view_count": null,
            "_view_module_version": "1.5.0",
            "description_tooltip": null,
            "_model_module": "@jupyter-widgets/controls",
            "layout": "IPY_MODEL_02f2f8857d7f414786ca0f8312966784"
          }
        },
        "aa306cf508cd462c9eeeebc6e77b912b": {
          "model_module": "@jupyter-widgets/controls",
          "model_name": "FloatProgressModel",
          "model_module_version": "1.5.0",
          "state": {
            "_view_name": "ProgressView",
            "style": "IPY_MODEL_8920e5320f6d49ad86ae14b228b26c5a",
            "_dom_classes": [],
            "description": "",
            "_model_name": "FloatProgressModel",
            "bar_style": "success",
            "max": 9912422,
            "_view_module": "@jupyter-widgets/controls",
            "_model_module_version": "1.5.0",
            "value": 9912422,
            "_view_count": null,
            "_view_module_version": "1.5.0",
            "orientation": "horizontal",
            "min": 0,
            "description_tooltip": null,
            "_model_module": "@jupyter-widgets/controls",
            "layout": "IPY_MODEL_49dfd071111a4eb6bd61b4c1c8a1607e"
          }
        },
        "2304e26434454a45b4ac232e94a3eac2": {
          "model_module": "@jupyter-widgets/controls",
          "model_name": "HTMLModel",
          "model_module_version": "1.5.0",
          "state": {
            "_view_name": "HTMLView",
            "style": "IPY_MODEL_4c297e2cea2648f98770e0607e747d9d",
            "_dom_classes": [],
            "description": "",
            "_model_name": "HTMLModel",
            "placeholder": "​",
            "_view_module": "@jupyter-widgets/controls",
            "_model_module_version": "1.5.0",
            "value": " 9913344/? [04:28&lt;00:00, 39040.24it/s]",
            "_view_count": null,
            "_view_module_version": "1.5.0",
            "description_tooltip": null,
            "_model_module": "@jupyter-widgets/controls",
            "layout": "IPY_MODEL_327b10b9f3074c79a9c5fd900333d37c"
          }
        },
        "185327ae42844c77a0ade48bcb4692d0": {
          "model_module": "@jupyter-widgets/controls",
          "model_name": "DescriptionStyleModel",
          "model_module_version": "1.5.0",
          "state": {
            "_view_name": "StyleView",
            "_model_name": "DescriptionStyleModel",
            "description_width": "",
            "_view_module": "@jupyter-widgets/base",
            "_model_module_version": "1.5.0",
            "_view_count": null,
            "_view_module_version": "1.2.0",
            "_model_module": "@jupyter-widgets/controls"
          }
        },
        "02f2f8857d7f414786ca0f8312966784": {
          "model_module": "@jupyter-widgets/base",
          "model_name": "LayoutModel",
          "model_module_version": "1.2.0",
          "state": {
            "_view_name": "LayoutView",
            "grid_template_rows": null,
            "right": null,
            "justify_content": null,
            "_view_module": "@jupyter-widgets/base",
            "overflow": null,
            "_model_module_version": "1.2.0",
            "_view_count": null,
            "flex_flow": null,
            "width": null,
            "min_width": null,
            "border": null,
            "align_items": null,
            "bottom": null,
            "_model_module": "@jupyter-widgets/base",
            "top": null,
            "grid_column": null,
            "overflow_y": null,
            "overflow_x": null,
            "grid_auto_flow": null,
            "grid_area": null,
            "grid_template_columns": null,
            "flex": null,
            "_model_name": "LayoutModel",
            "justify_items": null,
            "grid_row": null,
            "max_height": null,
            "align_content": null,
            "visibility": null,
            "align_self": null,
            "height": null,
            "min_height": null,
            "padding": null,
            "grid_auto_rows": null,
            "grid_gap": null,
            "max_width": null,
            "order": null,
            "_view_module_version": "1.2.0",
            "grid_template_areas": null,
            "object_position": null,
            "object_fit": null,
            "grid_auto_columns": null,
            "margin": null,
            "display": null,
            "left": null
          }
        },
        "8920e5320f6d49ad86ae14b228b26c5a": {
          "model_module": "@jupyter-widgets/controls",
          "model_name": "ProgressStyleModel",
          "model_module_version": "1.5.0",
          "state": {
            "_view_name": "StyleView",
            "_model_name": "ProgressStyleModel",
            "description_width": "",
            "_view_module": "@jupyter-widgets/base",
            "_model_module_version": "1.5.0",
            "_view_count": null,
            "_view_module_version": "1.2.0",
            "bar_color": null,
            "_model_module": "@jupyter-widgets/controls"
          }
        },
        "49dfd071111a4eb6bd61b4c1c8a1607e": {
          "model_module": "@jupyter-widgets/base",
          "model_name": "LayoutModel",
          "model_module_version": "1.2.0",
          "state": {
            "_view_name": "LayoutView",
            "grid_template_rows": null,
            "right": null,
            "justify_content": null,
            "_view_module": "@jupyter-widgets/base",
            "overflow": null,
            "_model_module_version": "1.2.0",
            "_view_count": null,
            "flex_flow": null,
            "width": null,
            "min_width": null,
            "border": null,
            "align_items": null,
            "bottom": null,
            "_model_module": "@jupyter-widgets/base",
            "top": null,
            "grid_column": null,
            "overflow_y": null,
            "overflow_x": null,
            "grid_auto_flow": null,
            "grid_area": null,
            "grid_template_columns": null,
            "flex": null,
            "_model_name": "LayoutModel",
            "justify_items": null,
            "grid_row": null,
            "max_height": null,
            "align_content": null,
            "visibility": null,
            "align_self": null,
            "height": null,
            "min_height": null,
            "padding": null,
            "grid_auto_rows": null,
            "grid_gap": null,
            "max_width": null,
            "order": null,
            "_view_module_version": "1.2.0",
            "grid_template_areas": null,
            "object_position": null,
            "object_fit": null,
            "grid_auto_columns": null,
            "margin": null,
            "display": null,
            "left": null
          }
        },
        "4c297e2cea2648f98770e0607e747d9d": {
          "model_module": "@jupyter-widgets/controls",
          "model_name": "DescriptionStyleModel",
          "model_module_version": "1.5.0",
          "state": {
            "_view_name": "StyleView",
            "_model_name": "DescriptionStyleModel",
            "description_width": "",
            "_view_module": "@jupyter-widgets/base",
            "_model_module_version": "1.5.0",
            "_view_count": null,
            "_view_module_version": "1.2.0",
            "_model_module": "@jupyter-widgets/controls"
          }
        },
        "327b10b9f3074c79a9c5fd900333d37c": {
          "model_module": "@jupyter-widgets/base",
          "model_name": "LayoutModel",
          "model_module_version": "1.2.0",
          "state": {
            "_view_name": "LayoutView",
            "grid_template_rows": null,
            "right": null,
            "justify_content": null,
            "_view_module": "@jupyter-widgets/base",
            "overflow": null,
            "_model_module_version": "1.2.0",
            "_view_count": null,
            "flex_flow": null,
            "width": null,
            "min_width": null,
            "border": null,
            "align_items": null,
            "bottom": null,
            "_model_module": "@jupyter-widgets/base",
            "top": null,
            "grid_column": null,
            "overflow_y": null,
            "overflow_x": null,
            "grid_auto_flow": null,
            "grid_area": null,
            "grid_template_columns": null,
            "flex": null,
            "_model_name": "LayoutModel",
            "justify_items": null,
            "grid_row": null,
            "max_height": null,
            "align_content": null,
            "visibility": null,
            "align_self": null,
            "height": null,
            "min_height": null,
            "padding": null,
            "grid_auto_rows": null,
            "grid_gap": null,
            "max_width": null,
            "order": null,
            "_view_module_version": "1.2.0",
            "grid_template_areas": null,
            "object_position": null,
            "object_fit": null,
            "grid_auto_columns": null,
            "margin": null,
            "display": null,
            "left": null
          }
        },
        "fa9511d7430f49da91049cd8e5971c48": {
          "model_module": "@jupyter-widgets/controls",
          "model_name": "HBoxModel",
          "model_module_version": "1.5.0",
          "state": {
            "_view_name": "HBoxView",
            "_dom_classes": [],
            "_model_name": "HBoxModel",
            "_view_module": "@jupyter-widgets/controls",
            "_model_module_version": "1.5.0",
            "_view_count": null,
            "_view_module_version": "1.5.0",
            "box_style": "",
            "layout": "IPY_MODEL_9dc701fdf93045838ec00c2a54b0c9df",
            "_model_module": "@jupyter-widgets/controls",
            "children": [
              "IPY_MODEL_725989bb467041ff9b3a93087dc0da79",
              "IPY_MODEL_d982e0b2b7184c209003af7cf4fa2532",
              "IPY_MODEL_34bf0fa117384cbdbabef5693e1a3dfc"
            ]
          }
        },
        "9dc701fdf93045838ec00c2a54b0c9df": {
          "model_module": "@jupyter-widgets/base",
          "model_name": "LayoutModel",
          "model_module_version": "1.2.0",
          "state": {
            "_view_name": "LayoutView",
            "grid_template_rows": null,
            "right": null,
            "justify_content": null,
            "_view_module": "@jupyter-widgets/base",
            "overflow": null,
            "_model_module_version": "1.2.0",
            "_view_count": null,
            "flex_flow": null,
            "width": null,
            "min_width": null,
            "border": null,
            "align_items": null,
            "bottom": null,
            "_model_module": "@jupyter-widgets/base",
            "top": null,
            "grid_column": null,
            "overflow_y": null,
            "overflow_x": null,
            "grid_auto_flow": null,
            "grid_area": null,
            "grid_template_columns": null,
            "flex": null,
            "_model_name": "LayoutModel",
            "justify_items": null,
            "grid_row": null,
            "max_height": null,
            "align_content": null,
            "visibility": null,
            "align_self": null,
            "height": null,
            "min_height": null,
            "padding": null,
            "grid_auto_rows": null,
            "grid_gap": null,
            "max_width": null,
            "order": null,
            "_view_module_version": "1.2.0",
            "grid_template_areas": null,
            "object_position": null,
            "object_fit": null,
            "grid_auto_columns": null,
            "margin": null,
            "display": null,
            "left": null
          }
        },
        "725989bb467041ff9b3a93087dc0da79": {
          "model_module": "@jupyter-widgets/controls",
          "model_name": "HTMLModel",
          "model_module_version": "1.5.0",
          "state": {
            "_view_name": "HTMLView",
            "style": "IPY_MODEL_c66be57de7364b00b275de62de423786",
            "_dom_classes": [],
            "description": "",
            "_model_name": "HTMLModel",
            "placeholder": "​",
            "_view_module": "@jupyter-widgets/controls",
            "_model_module_version": "1.5.0",
            "value": "",
            "_view_count": null,
            "_view_module_version": "1.5.0",
            "description_tooltip": null,
            "_model_module": "@jupyter-widgets/controls",
            "layout": "IPY_MODEL_8015e155070945bd8f1b8f9a99a0b764"
          }
        },
        "d982e0b2b7184c209003af7cf4fa2532": {
          "model_module": "@jupyter-widgets/controls",
          "model_name": "FloatProgressModel",
          "model_module_version": "1.5.0",
          "state": {
            "_view_name": "ProgressView",
            "style": "IPY_MODEL_e25844b9912848be9a08bbf5f74d82bc",
            "_dom_classes": [],
            "description": "",
            "_model_name": "FloatProgressModel",
            "bar_style": "success",
            "max": 28881,
            "_view_module": "@jupyter-widgets/controls",
            "_model_module_version": "1.5.0",
            "value": 28881,
            "_view_count": null,
            "_view_module_version": "1.5.0",
            "orientation": "horizontal",
            "min": 0,
            "description_tooltip": null,
            "_model_module": "@jupyter-widgets/controls",
            "layout": "IPY_MODEL_cd0942ab362e45589ae605b8fdaaa4e4"
          }
        },
        "34bf0fa117384cbdbabef5693e1a3dfc": {
          "model_module": "@jupyter-widgets/controls",
          "model_name": "HTMLModel",
          "model_module_version": "1.5.0",
          "state": {
            "_view_name": "HTMLView",
            "style": "IPY_MODEL_afc8f20cb88e4e4ab3a7232d54b523e1",
            "_dom_classes": [],
            "description": "",
            "_model_name": "HTMLModel",
            "placeholder": "​",
            "_view_module": "@jupyter-widgets/controls",
            "_model_module_version": "1.5.0",
            "value": " 29696/? [00:00&lt;00:00, 816614.01it/s]",
            "_view_count": null,
            "_view_module_version": "1.5.0",
            "description_tooltip": null,
            "_model_module": "@jupyter-widgets/controls",
            "layout": "IPY_MODEL_352551c722e84e8bafb2a43448747a20"
          }
        },
        "c66be57de7364b00b275de62de423786": {
          "model_module": "@jupyter-widgets/controls",
          "model_name": "DescriptionStyleModel",
          "model_module_version": "1.5.0",
          "state": {
            "_view_name": "StyleView",
            "_model_name": "DescriptionStyleModel",
            "description_width": "",
            "_view_module": "@jupyter-widgets/base",
            "_model_module_version": "1.5.0",
            "_view_count": null,
            "_view_module_version": "1.2.0",
            "_model_module": "@jupyter-widgets/controls"
          }
        },
        "8015e155070945bd8f1b8f9a99a0b764": {
          "model_module": "@jupyter-widgets/base",
          "model_name": "LayoutModel",
          "model_module_version": "1.2.0",
          "state": {
            "_view_name": "LayoutView",
            "grid_template_rows": null,
            "right": null,
            "justify_content": null,
            "_view_module": "@jupyter-widgets/base",
            "overflow": null,
            "_model_module_version": "1.2.0",
            "_view_count": null,
            "flex_flow": null,
            "width": null,
            "min_width": null,
            "border": null,
            "align_items": null,
            "bottom": null,
            "_model_module": "@jupyter-widgets/base",
            "top": null,
            "grid_column": null,
            "overflow_y": null,
            "overflow_x": null,
            "grid_auto_flow": null,
            "grid_area": null,
            "grid_template_columns": null,
            "flex": null,
            "_model_name": "LayoutModel",
            "justify_items": null,
            "grid_row": null,
            "max_height": null,
            "align_content": null,
            "visibility": null,
            "align_self": null,
            "height": null,
            "min_height": null,
            "padding": null,
            "grid_auto_rows": null,
            "grid_gap": null,
            "max_width": null,
            "order": null,
            "_view_module_version": "1.2.0",
            "grid_template_areas": null,
            "object_position": null,
            "object_fit": null,
            "grid_auto_columns": null,
            "margin": null,
            "display": null,
            "left": null
          }
        },
        "e25844b9912848be9a08bbf5f74d82bc": {
          "model_module": "@jupyter-widgets/controls",
          "model_name": "ProgressStyleModel",
          "model_module_version": "1.5.0",
          "state": {
            "_view_name": "StyleView",
            "_model_name": "ProgressStyleModel",
            "description_width": "",
            "_view_module": "@jupyter-widgets/base",
            "_model_module_version": "1.5.0",
            "_view_count": null,
            "_view_module_version": "1.2.0",
            "bar_color": null,
            "_model_module": "@jupyter-widgets/controls"
          }
        },
        "cd0942ab362e45589ae605b8fdaaa4e4": {
          "model_module": "@jupyter-widgets/base",
          "model_name": "LayoutModel",
          "model_module_version": "1.2.0",
          "state": {
            "_view_name": "LayoutView",
            "grid_template_rows": null,
            "right": null,
            "justify_content": null,
            "_view_module": "@jupyter-widgets/base",
            "overflow": null,
            "_model_module_version": "1.2.0",
            "_view_count": null,
            "flex_flow": null,
            "width": null,
            "min_width": null,
            "border": null,
            "align_items": null,
            "bottom": null,
            "_model_module": "@jupyter-widgets/base",
            "top": null,
            "grid_column": null,
            "overflow_y": null,
            "overflow_x": null,
            "grid_auto_flow": null,
            "grid_area": null,
            "grid_template_columns": null,
            "flex": null,
            "_model_name": "LayoutModel",
            "justify_items": null,
            "grid_row": null,
            "max_height": null,
            "align_content": null,
            "visibility": null,
            "align_self": null,
            "height": null,
            "min_height": null,
            "padding": null,
            "grid_auto_rows": null,
            "grid_gap": null,
            "max_width": null,
            "order": null,
            "_view_module_version": "1.2.0",
            "grid_template_areas": null,
            "object_position": null,
            "object_fit": null,
            "grid_auto_columns": null,
            "margin": null,
            "display": null,
            "left": null
          }
        },
        "afc8f20cb88e4e4ab3a7232d54b523e1": {
          "model_module": "@jupyter-widgets/controls",
          "model_name": "DescriptionStyleModel",
          "model_module_version": "1.5.0",
          "state": {
            "_view_name": "StyleView",
            "_model_name": "DescriptionStyleModel",
            "description_width": "",
            "_view_module": "@jupyter-widgets/base",
            "_model_module_version": "1.5.0",
            "_view_count": null,
            "_view_module_version": "1.2.0",
            "_model_module": "@jupyter-widgets/controls"
          }
        },
        "352551c722e84e8bafb2a43448747a20": {
          "model_module": "@jupyter-widgets/base",
          "model_name": "LayoutModel",
          "model_module_version": "1.2.0",
          "state": {
            "_view_name": "LayoutView",
            "grid_template_rows": null,
            "right": null,
            "justify_content": null,
            "_view_module": "@jupyter-widgets/base",
            "overflow": null,
            "_model_module_version": "1.2.0",
            "_view_count": null,
            "flex_flow": null,
            "width": null,
            "min_width": null,
            "border": null,
            "align_items": null,
            "bottom": null,
            "_model_module": "@jupyter-widgets/base",
            "top": null,
            "grid_column": null,
            "overflow_y": null,
            "overflow_x": null,
            "grid_auto_flow": null,
            "grid_area": null,
            "grid_template_columns": null,
            "flex": null,
            "_model_name": "LayoutModel",
            "justify_items": null,
            "grid_row": null,
            "max_height": null,
            "align_content": null,
            "visibility": null,
            "align_self": null,
            "height": null,
            "min_height": null,
            "padding": null,
            "grid_auto_rows": null,
            "grid_gap": null,
            "max_width": null,
            "order": null,
            "_view_module_version": "1.2.0",
            "grid_template_areas": null,
            "object_position": null,
            "object_fit": null,
            "grid_auto_columns": null,
            "margin": null,
            "display": null,
            "left": null
          }
        },
        "eaf1955382c3419485251c0ae6de0719": {
          "model_module": "@jupyter-widgets/controls",
          "model_name": "HBoxModel",
          "model_module_version": "1.5.0",
          "state": {
            "_view_name": "HBoxView",
            "_dom_classes": [],
            "_model_name": "HBoxModel",
            "_view_module": "@jupyter-widgets/controls",
            "_model_module_version": "1.5.0",
            "_view_count": null,
            "_view_module_version": "1.5.0",
            "box_style": "",
            "layout": "IPY_MODEL_aee2816a9d894a3fbc243b98bcb0da19",
            "_model_module": "@jupyter-widgets/controls",
            "children": [
              "IPY_MODEL_b3d79e874cac43a0ba73be1a3595fdff",
              "IPY_MODEL_925de4504f554cd9a54e88ac5da2ce18",
              "IPY_MODEL_a6b3594d181a4cf8b49703c41c6f2064"
            ]
          }
        },
        "aee2816a9d894a3fbc243b98bcb0da19": {
          "model_module": "@jupyter-widgets/base",
          "model_name": "LayoutModel",
          "model_module_version": "1.2.0",
          "state": {
            "_view_name": "LayoutView",
            "grid_template_rows": null,
            "right": null,
            "justify_content": null,
            "_view_module": "@jupyter-widgets/base",
            "overflow": null,
            "_model_module_version": "1.2.0",
            "_view_count": null,
            "flex_flow": null,
            "width": null,
            "min_width": null,
            "border": null,
            "align_items": null,
            "bottom": null,
            "_model_module": "@jupyter-widgets/base",
            "top": null,
            "grid_column": null,
            "overflow_y": null,
            "overflow_x": null,
            "grid_auto_flow": null,
            "grid_area": null,
            "grid_template_columns": null,
            "flex": null,
            "_model_name": "LayoutModel",
            "justify_items": null,
            "grid_row": null,
            "max_height": null,
            "align_content": null,
            "visibility": null,
            "align_self": null,
            "height": null,
            "min_height": null,
            "padding": null,
            "grid_auto_rows": null,
            "grid_gap": null,
            "max_width": null,
            "order": null,
            "_view_module_version": "1.2.0",
            "grid_template_areas": null,
            "object_position": null,
            "object_fit": null,
            "grid_auto_columns": null,
            "margin": null,
            "display": null,
            "left": null
          }
        },
        "b3d79e874cac43a0ba73be1a3595fdff": {
          "model_module": "@jupyter-widgets/controls",
          "model_name": "HTMLModel",
          "model_module_version": "1.5.0",
          "state": {
            "_view_name": "HTMLView",
            "style": "IPY_MODEL_d9ad0b512e114516ba367a92ac2af89f",
            "_dom_classes": [],
            "description": "",
            "_model_name": "HTMLModel",
            "placeholder": "​",
            "_view_module": "@jupyter-widgets/controls",
            "_model_module_version": "1.5.0",
            "value": "",
            "_view_count": null,
            "_view_module_version": "1.5.0",
            "description_tooltip": null,
            "_model_module": "@jupyter-widgets/controls",
            "layout": "IPY_MODEL_2c148487608543e984a1e76bdfce4c41"
          }
        },
        "925de4504f554cd9a54e88ac5da2ce18": {
          "model_module": "@jupyter-widgets/controls",
          "model_name": "FloatProgressModel",
          "model_module_version": "1.5.0",
          "state": {
            "_view_name": "ProgressView",
            "style": "IPY_MODEL_078f9577ba7040ffa49ae809a4d9be88",
            "_dom_classes": [],
            "description": "",
            "_model_name": "FloatProgressModel",
            "bar_style": "success",
            "max": 1648877,
            "_view_module": "@jupyter-widgets/controls",
            "_model_module_version": "1.5.0",
            "value": 1648877,
            "_view_count": null,
            "_view_module_version": "1.5.0",
            "orientation": "horizontal",
            "min": 0,
            "description_tooltip": null,
            "_model_module": "@jupyter-widgets/controls",
            "layout": "IPY_MODEL_85dab90fe9a14cec9d7ee640183049e8"
          }
        },
        "a6b3594d181a4cf8b49703c41c6f2064": {
          "model_module": "@jupyter-widgets/controls",
          "model_name": "HTMLModel",
          "model_module_version": "1.5.0",
          "state": {
            "_view_name": "HTMLView",
            "style": "IPY_MODEL_9d3171b3820a4a79984e7f08c5b74900",
            "_dom_classes": [],
            "description": "",
            "_model_name": "HTMLModel",
            "placeholder": "​",
            "_view_module": "@jupyter-widgets/controls",
            "_model_module_version": "1.5.0",
            "value": " 1649664/? [00:37&lt;00:00, 31443.64it/s]",
            "_view_count": null,
            "_view_module_version": "1.5.0",
            "description_tooltip": null,
            "_model_module": "@jupyter-widgets/controls",
            "layout": "IPY_MODEL_c43daf00382f4578b2e5ef8e03b8af0d"
          }
        },
        "d9ad0b512e114516ba367a92ac2af89f": {
          "model_module": "@jupyter-widgets/controls",
          "model_name": "DescriptionStyleModel",
          "model_module_version": "1.5.0",
          "state": {
            "_view_name": "StyleView",
            "_model_name": "DescriptionStyleModel",
            "description_width": "",
            "_view_module": "@jupyter-widgets/base",
            "_model_module_version": "1.5.0",
            "_view_count": null,
            "_view_module_version": "1.2.0",
            "_model_module": "@jupyter-widgets/controls"
          }
        },
        "2c148487608543e984a1e76bdfce4c41": {
          "model_module": "@jupyter-widgets/base",
          "model_name": "LayoutModel",
          "model_module_version": "1.2.0",
          "state": {
            "_view_name": "LayoutView",
            "grid_template_rows": null,
            "right": null,
            "justify_content": null,
            "_view_module": "@jupyter-widgets/base",
            "overflow": null,
            "_model_module_version": "1.2.0",
            "_view_count": null,
            "flex_flow": null,
            "width": null,
            "min_width": null,
            "border": null,
            "align_items": null,
            "bottom": null,
            "_model_module": "@jupyter-widgets/base",
            "top": null,
            "grid_column": null,
            "overflow_y": null,
            "overflow_x": null,
            "grid_auto_flow": null,
            "grid_area": null,
            "grid_template_columns": null,
            "flex": null,
            "_model_name": "LayoutModel",
            "justify_items": null,
            "grid_row": null,
            "max_height": null,
            "align_content": null,
            "visibility": null,
            "align_self": null,
            "height": null,
            "min_height": null,
            "padding": null,
            "grid_auto_rows": null,
            "grid_gap": null,
            "max_width": null,
            "order": null,
            "_view_module_version": "1.2.0",
            "grid_template_areas": null,
            "object_position": null,
            "object_fit": null,
            "grid_auto_columns": null,
            "margin": null,
            "display": null,
            "left": null
          }
        },
        "078f9577ba7040ffa49ae809a4d9be88": {
          "model_module": "@jupyter-widgets/controls",
          "model_name": "ProgressStyleModel",
          "model_module_version": "1.5.0",
          "state": {
            "_view_name": "StyleView",
            "_model_name": "ProgressStyleModel",
            "description_width": "",
            "_view_module": "@jupyter-widgets/base",
            "_model_module_version": "1.5.0",
            "_view_count": null,
            "_view_module_version": "1.2.0",
            "bar_color": null,
            "_model_module": "@jupyter-widgets/controls"
          }
        },
        "85dab90fe9a14cec9d7ee640183049e8": {
          "model_module": "@jupyter-widgets/base",
          "model_name": "LayoutModel",
          "model_module_version": "1.2.0",
          "state": {
            "_view_name": "LayoutView",
            "grid_template_rows": null,
            "right": null,
            "justify_content": null,
            "_view_module": "@jupyter-widgets/base",
            "overflow": null,
            "_model_module_version": "1.2.0",
            "_view_count": null,
            "flex_flow": null,
            "width": null,
            "min_width": null,
            "border": null,
            "align_items": null,
            "bottom": null,
            "_model_module": "@jupyter-widgets/base",
            "top": null,
            "grid_column": null,
            "overflow_y": null,
            "overflow_x": null,
            "grid_auto_flow": null,
            "grid_area": null,
            "grid_template_columns": null,
            "flex": null,
            "_model_name": "LayoutModel",
            "justify_items": null,
            "grid_row": null,
            "max_height": null,
            "align_content": null,
            "visibility": null,
            "align_self": null,
            "height": null,
            "min_height": null,
            "padding": null,
            "grid_auto_rows": null,
            "grid_gap": null,
            "max_width": null,
            "order": null,
            "_view_module_version": "1.2.0",
            "grid_template_areas": null,
            "object_position": null,
            "object_fit": null,
            "grid_auto_columns": null,
            "margin": null,
            "display": null,
            "left": null
          }
        },
        "9d3171b3820a4a79984e7f08c5b74900": {
          "model_module": "@jupyter-widgets/controls",
          "model_name": "DescriptionStyleModel",
          "model_module_version": "1.5.0",
          "state": {
            "_view_name": "StyleView",
            "_model_name": "DescriptionStyleModel",
            "description_width": "",
            "_view_module": "@jupyter-widgets/base",
            "_model_module_version": "1.5.0",
            "_view_count": null,
            "_view_module_version": "1.2.0",
            "_model_module": "@jupyter-widgets/controls"
          }
        },
        "c43daf00382f4578b2e5ef8e03b8af0d": {
          "model_module": "@jupyter-widgets/base",
          "model_name": "LayoutModel",
          "model_module_version": "1.2.0",
          "state": {
            "_view_name": "LayoutView",
            "grid_template_rows": null,
            "right": null,
            "justify_content": null,
            "_view_module": "@jupyter-widgets/base",
            "overflow": null,
            "_model_module_version": "1.2.0",
            "_view_count": null,
            "flex_flow": null,
            "width": null,
            "min_width": null,
            "border": null,
            "align_items": null,
            "bottom": null,
            "_model_module": "@jupyter-widgets/base",
            "top": null,
            "grid_column": null,
            "overflow_y": null,
            "overflow_x": null,
            "grid_auto_flow": null,
            "grid_area": null,
            "grid_template_columns": null,
            "flex": null,
            "_model_name": "LayoutModel",
            "justify_items": null,
            "grid_row": null,
            "max_height": null,
            "align_content": null,
            "visibility": null,
            "align_self": null,
            "height": null,
            "min_height": null,
            "padding": null,
            "grid_auto_rows": null,
            "grid_gap": null,
            "max_width": null,
            "order": null,
            "_view_module_version": "1.2.0",
            "grid_template_areas": null,
            "object_position": null,
            "object_fit": null,
            "grid_auto_columns": null,
            "margin": null,
            "display": null,
            "left": null
          }
        },
        "7168c46724a84b52a5440d9e0487bf1d": {
          "model_module": "@jupyter-widgets/controls",
          "model_name": "HBoxModel",
          "model_module_version": "1.5.0",
          "state": {
            "_view_name": "HBoxView",
            "_dom_classes": [],
            "_model_name": "HBoxModel",
            "_view_module": "@jupyter-widgets/controls",
            "_model_module_version": "1.5.0",
            "_view_count": null,
            "_view_module_version": "1.5.0",
            "box_style": "",
            "layout": "IPY_MODEL_d9102bb2b6744d31800e0e58a0ac3b75",
            "_model_module": "@jupyter-widgets/controls",
            "children": [
              "IPY_MODEL_487707944bf047e19d23423855ea79db",
              "IPY_MODEL_200b53a1df074532968cf8430eddd11f",
              "IPY_MODEL_f1048bb0932c4b60b7e2d4ae35a77dd1"
            ]
          }
        },
        "d9102bb2b6744d31800e0e58a0ac3b75": {
          "model_module": "@jupyter-widgets/base",
          "model_name": "LayoutModel",
          "model_module_version": "1.2.0",
          "state": {
            "_view_name": "LayoutView",
            "grid_template_rows": null,
            "right": null,
            "justify_content": null,
            "_view_module": "@jupyter-widgets/base",
            "overflow": null,
            "_model_module_version": "1.2.0",
            "_view_count": null,
            "flex_flow": null,
            "width": null,
            "min_width": null,
            "border": null,
            "align_items": null,
            "bottom": null,
            "_model_module": "@jupyter-widgets/base",
            "top": null,
            "grid_column": null,
            "overflow_y": null,
            "overflow_x": null,
            "grid_auto_flow": null,
            "grid_area": null,
            "grid_template_columns": null,
            "flex": null,
            "_model_name": "LayoutModel",
            "justify_items": null,
            "grid_row": null,
            "max_height": null,
            "align_content": null,
            "visibility": null,
            "align_self": null,
            "height": null,
            "min_height": null,
            "padding": null,
            "grid_auto_rows": null,
            "grid_gap": null,
            "max_width": null,
            "order": null,
            "_view_module_version": "1.2.0",
            "grid_template_areas": null,
            "object_position": null,
            "object_fit": null,
            "grid_auto_columns": null,
            "margin": null,
            "display": null,
            "left": null
          }
        },
        "487707944bf047e19d23423855ea79db": {
          "model_module": "@jupyter-widgets/controls",
          "model_name": "HTMLModel",
          "model_module_version": "1.5.0",
          "state": {
            "_view_name": "HTMLView",
            "style": "IPY_MODEL_1b0ba7b5ac344fbe88f5938e98b98706",
            "_dom_classes": [],
            "description": "",
            "_model_name": "HTMLModel",
            "placeholder": "​",
            "_view_module": "@jupyter-widgets/controls",
            "_model_module_version": "1.5.0",
            "value": "",
            "_view_count": null,
            "_view_module_version": "1.5.0",
            "description_tooltip": null,
            "_model_module": "@jupyter-widgets/controls",
            "layout": "IPY_MODEL_56947ede858245efbd1d30877e78c8b6"
          }
        },
        "200b53a1df074532968cf8430eddd11f": {
          "model_module": "@jupyter-widgets/controls",
          "model_name": "FloatProgressModel",
          "model_module_version": "1.5.0",
          "state": {
            "_view_name": "ProgressView",
            "style": "IPY_MODEL_6bf0f68ffdbd422fb8c69fcc265a53c7",
            "_dom_classes": [],
            "description": "",
            "_model_name": "FloatProgressModel",
            "bar_style": "success",
            "max": 4542,
            "_view_module": "@jupyter-widgets/controls",
            "_model_module_version": "1.5.0",
            "value": 4542,
            "_view_count": null,
            "_view_module_version": "1.5.0",
            "orientation": "horizontal",
            "min": 0,
            "description_tooltip": null,
            "_model_module": "@jupyter-widgets/controls",
            "layout": "IPY_MODEL_1656e5bec156461d9c88b471a6ac1040"
          }
        },
        "f1048bb0932c4b60b7e2d4ae35a77dd1": {
          "model_module": "@jupyter-widgets/controls",
          "model_name": "HTMLModel",
          "model_module_version": "1.5.0",
          "state": {
            "_view_name": "HTMLView",
            "style": "IPY_MODEL_d8c45d7c0dda4e37ba7926955a8c591a",
            "_dom_classes": [],
            "description": "",
            "_model_name": "HTMLModel",
            "placeholder": "​",
            "_view_module": "@jupyter-widgets/controls",
            "_model_module_version": "1.5.0",
            "value": " 5120/? [00:00&lt;00:00, 92995.26it/s]",
            "_view_count": null,
            "_view_module_version": "1.5.0",
            "description_tooltip": null,
            "_model_module": "@jupyter-widgets/controls",
            "layout": "IPY_MODEL_6bad1e51904e4cdfa3be36c681908aef"
          }
        },
        "1b0ba7b5ac344fbe88f5938e98b98706": {
          "model_module": "@jupyter-widgets/controls",
          "model_name": "DescriptionStyleModel",
          "model_module_version": "1.5.0",
          "state": {
            "_view_name": "StyleView",
            "_model_name": "DescriptionStyleModel",
            "description_width": "",
            "_view_module": "@jupyter-widgets/base",
            "_model_module_version": "1.5.0",
            "_view_count": null,
            "_view_module_version": "1.2.0",
            "_model_module": "@jupyter-widgets/controls"
          }
        },
        "56947ede858245efbd1d30877e78c8b6": {
          "model_module": "@jupyter-widgets/base",
          "model_name": "LayoutModel",
          "model_module_version": "1.2.0",
          "state": {
            "_view_name": "LayoutView",
            "grid_template_rows": null,
            "right": null,
            "justify_content": null,
            "_view_module": "@jupyter-widgets/base",
            "overflow": null,
            "_model_module_version": "1.2.0",
            "_view_count": null,
            "flex_flow": null,
            "width": null,
            "min_width": null,
            "border": null,
            "align_items": null,
            "bottom": null,
            "_model_module": "@jupyter-widgets/base",
            "top": null,
            "grid_column": null,
            "overflow_y": null,
            "overflow_x": null,
            "grid_auto_flow": null,
            "grid_area": null,
            "grid_template_columns": null,
            "flex": null,
            "_model_name": "LayoutModel",
            "justify_items": null,
            "grid_row": null,
            "max_height": null,
            "align_content": null,
            "visibility": null,
            "align_self": null,
            "height": null,
            "min_height": null,
            "padding": null,
            "grid_auto_rows": null,
            "grid_gap": null,
            "max_width": null,
            "order": null,
            "_view_module_version": "1.2.0",
            "grid_template_areas": null,
            "object_position": null,
            "object_fit": null,
            "grid_auto_columns": null,
            "margin": null,
            "display": null,
            "left": null
          }
        },
        "6bf0f68ffdbd422fb8c69fcc265a53c7": {
          "model_module": "@jupyter-widgets/controls",
          "model_name": "ProgressStyleModel",
          "model_module_version": "1.5.0",
          "state": {
            "_view_name": "StyleView",
            "_model_name": "ProgressStyleModel",
            "description_width": "",
            "_view_module": "@jupyter-widgets/base",
            "_model_module_version": "1.5.0",
            "_view_count": null,
            "_view_module_version": "1.2.0",
            "bar_color": null,
            "_model_module": "@jupyter-widgets/controls"
          }
        },
        "1656e5bec156461d9c88b471a6ac1040": {
          "model_module": "@jupyter-widgets/base",
          "model_name": "LayoutModel",
          "model_module_version": "1.2.0",
          "state": {
            "_view_name": "LayoutView",
            "grid_template_rows": null,
            "right": null,
            "justify_content": null,
            "_view_module": "@jupyter-widgets/base",
            "overflow": null,
            "_model_module_version": "1.2.0",
            "_view_count": null,
            "flex_flow": null,
            "width": null,
            "min_width": null,
            "border": null,
            "align_items": null,
            "bottom": null,
            "_model_module": "@jupyter-widgets/base",
            "top": null,
            "grid_column": null,
            "overflow_y": null,
            "overflow_x": null,
            "grid_auto_flow": null,
            "grid_area": null,
            "grid_template_columns": null,
            "flex": null,
            "_model_name": "LayoutModel",
            "justify_items": null,
            "grid_row": null,
            "max_height": null,
            "align_content": null,
            "visibility": null,
            "align_self": null,
            "height": null,
            "min_height": null,
            "padding": null,
            "grid_auto_rows": null,
            "grid_gap": null,
            "max_width": null,
            "order": null,
            "_view_module_version": "1.2.0",
            "grid_template_areas": null,
            "object_position": null,
            "object_fit": null,
            "grid_auto_columns": null,
            "margin": null,
            "display": null,
            "left": null
          }
        },
        "d8c45d7c0dda4e37ba7926955a8c591a": {
          "model_module": "@jupyter-widgets/controls",
          "model_name": "DescriptionStyleModel",
          "model_module_version": "1.5.0",
          "state": {
            "_view_name": "StyleView",
            "_model_name": "DescriptionStyleModel",
            "description_width": "",
            "_view_module": "@jupyter-widgets/base",
            "_model_module_version": "1.5.0",
            "_view_count": null,
            "_view_module_version": "1.2.0",
            "_model_module": "@jupyter-widgets/controls"
          }
        },
        "6bad1e51904e4cdfa3be36c681908aef": {
          "model_module": "@jupyter-widgets/base",
          "model_name": "LayoutModel",
          "model_module_version": "1.2.0",
          "state": {
            "_view_name": "LayoutView",
            "grid_template_rows": null,
            "right": null,
            "justify_content": null,
            "_view_module": "@jupyter-widgets/base",
            "overflow": null,
            "_model_module_version": "1.2.0",
            "_view_count": null,
            "flex_flow": null,
            "width": null,
            "min_width": null,
            "border": null,
            "align_items": null,
            "bottom": null,
            "_model_module": "@jupyter-widgets/base",
            "top": null,
            "grid_column": null,
            "overflow_y": null,
            "overflow_x": null,
            "grid_auto_flow": null,
            "grid_area": null,
            "grid_template_columns": null,
            "flex": null,
            "_model_name": "LayoutModel",
            "justify_items": null,
            "grid_row": null,
            "max_height": null,
            "align_content": null,
            "visibility": null,
            "align_self": null,
            "height": null,
            "min_height": null,
            "padding": null,
            "grid_auto_rows": null,
            "grid_gap": null,
            "max_width": null,
            "order": null,
            "_view_module_version": "1.2.0",
            "grid_template_areas": null,
            "object_position": null,
            "object_fit": null,
            "grid_auto_columns": null,
            "margin": null,
            "display": null,
            "left": null
          }
        }
      }
    }
  },
  "cells": [
    {
      "cell_type": "markdown",
      "metadata": {
        "id": "view-in-github",
        "colab_type": "text"
      },
      "source": [
        "<a href=\"https://colab.research.google.com/github/simonians/PracticoN3-RedesNeuronales-AutoencoderFeedForward/blob/main/Autoencoder_Feed_Forward_Terminado.ipynb\" target=\"_parent\"><img src=\"https://colab.research.google.com/assets/colab-badge.svg\" alt=\"Open In Colab\"/></a>"
      ]
    },
    {
      "cell_type": "code",
      "metadata": {
        "colab": {
          "base_uri": "https://localhost:8080/"
        },
        "id": "SSbFzkHWsMSY",
        "outputId": "ed2b5ace-94f5-4b61-e675-a05bde63aaba"
      },
      "source": [
        "from google.colab import drive\n",
        "drive.mount('/content/drive')"
      ],
      "execution_count": null,
      "outputs": [
        {
          "output_type": "stream",
          "text": [
            "Mounted at /content/drive\n"
          ],
          "name": "stdout"
        }
      ]
    },
    {
      "cell_type": "code",
      "metadata": {
        "id": "wgX50lD9ZZMs",
        "colab": {
          "base_uri": "https://localhost:8080/"
        },
        "outputId": "7e6fa57c-dddc-4cd5-a711-177d00700ec2"
      },
      "source": [
        "from google.colab import drive\n",
        "drive.mount('/mnist') "
      ],
      "execution_count": null,
      "outputs": [
        {
          "output_type": "stream",
          "text": [
            "Mounted at /mnist\n"
          ],
          "name": "stdout"
        }
      ]
    },
    {
      "cell_type": "code",
      "metadata": {
        "id": "v5tMTUvBZtGp"
      },
      "source": [
        "import pandas as pd\n",
        "import numpy as np\n",
        "import matplotlib.pyplot as plt\n",
        "import torch\n",
        "import torchvision\n",
        "import torchvision.datasets as datasets\n",
        "from torch import nn"
      ],
      "execution_count": null,
      "outputs": []
    },
    {
      "cell_type": "markdown",
      "metadata": {
        "id": "jUrMTsvjaLdj"
      },
      "source": [
        "Torchvision.datasets ya tiene incorporado al dataset de MNIST. Con el modulo datasets.MNIST lo incorporamos a nuestro código. Lo vamos a guardar en nuestro drive en una carpeta llamada ./data. \n",
        "Con train=true le estamos diciendo que nos descargue el conjunto de entrenamiento xq MNIST ya tiene hecha la división entre entrenamiento y testeo, y despues lo descargamos. Con transforms.Compose permitimos transformar nuestro dataset, haciendo primero una transformacion en un tensor de torch y luego normalizandolo (restamos media y dividimos x la varianza (son media y varianza de los píxeles) que se la proveemos nosotros, para tener una distribucion con media cero y varianza 1). \n"
      ]
    },
    {
      "cell_type": "code",
      "metadata": {
        "id": "avN2dJUTaHMK",
        "colab": {
          "base_uri": "https://localhost:8080/",
          "height": 471,
          "referenced_widgets": [
            "2ffa99b2723b49bfb8a7a6c687702ae8",
            "97d8a33cc0da40ce8492cfd91ecad951",
            "c5ab54de8ec84c1384eb11aaaa511f24",
            "aa306cf508cd462c9eeeebc6e77b912b",
            "2304e26434454a45b4ac232e94a3eac2",
            "185327ae42844c77a0ade48bcb4692d0",
            "02f2f8857d7f414786ca0f8312966784",
            "8920e5320f6d49ad86ae14b228b26c5a",
            "49dfd071111a4eb6bd61b4c1c8a1607e",
            "4c297e2cea2648f98770e0607e747d9d",
            "327b10b9f3074c79a9c5fd900333d37c",
            "fa9511d7430f49da91049cd8e5971c48",
            "9dc701fdf93045838ec00c2a54b0c9df",
            "725989bb467041ff9b3a93087dc0da79",
            "d982e0b2b7184c209003af7cf4fa2532",
            "34bf0fa117384cbdbabef5693e1a3dfc",
            "c66be57de7364b00b275de62de423786",
            "8015e155070945bd8f1b8f9a99a0b764",
            "e25844b9912848be9a08bbf5f74d82bc",
            "cd0942ab362e45589ae605b8fdaaa4e4",
            "afc8f20cb88e4e4ab3a7232d54b523e1",
            "352551c722e84e8bafb2a43448747a20",
            "eaf1955382c3419485251c0ae6de0719",
            "aee2816a9d894a3fbc243b98bcb0da19",
            "b3d79e874cac43a0ba73be1a3595fdff",
            "925de4504f554cd9a54e88ac5da2ce18",
            "a6b3594d181a4cf8b49703c41c6f2064",
            "d9ad0b512e114516ba367a92ac2af89f",
            "2c148487608543e984a1e76bdfce4c41",
            "078f9577ba7040ffa49ae809a4d9be88",
            "85dab90fe9a14cec9d7ee640183049e8",
            "9d3171b3820a4a79984e7f08c5b74900",
            "c43daf00382f4578b2e5ef8e03b8af0d",
            "7168c46724a84b52a5440d9e0487bf1d",
            "d9102bb2b6744d31800e0e58a0ac3b75",
            "487707944bf047e19d23423855ea79db",
            "200b53a1df074532968cf8430eddd11f",
            "f1048bb0932c4b60b7e2d4ae35a77dd1",
            "1b0ba7b5ac344fbe88f5938e98b98706",
            "56947ede858245efbd1d30877e78c8b6",
            "6bf0f68ffdbd422fb8c69fcc265a53c7",
            "1656e5bec156461d9c88b471a6ac1040",
            "d8c45d7c0dda4e37ba7926955a8c591a",
            "6bad1e51904e4cdfa3be36c681908aef"
          ]
        },
        "outputId": "7815de63-4d42-4cd1-d1be-7714cbb20ea8"
      },
      "source": [
        "mnist_data = datasets.MNIST('./data', train=True, download=True,\n",
        "                             transform=torchvision.transforms.Compose([\n",
        "                               torchvision.transforms.ToTensor(),\n",
        "                               torchvision.transforms.Normalize((0.1307,), (0.3081,))]))"
      ],
      "execution_count": null,
      "outputs": [
        {
          "output_type": "stream",
          "text": [
            "Downloading http://yann.lecun.com/exdb/mnist/train-images-idx3-ubyte.gz\n",
            "Downloading http://yann.lecun.com/exdb/mnist/train-images-idx3-ubyte.gz to ./data/MNIST/raw/train-images-idx3-ubyte.gz\n"
          ],
          "name": "stdout"
        },
        {
          "output_type": "display_data",
          "data": {
            "application/vnd.jupyter.widget-view+json": {
              "model_id": "2ffa99b2723b49bfb8a7a6c687702ae8",
              "version_minor": 0,
              "version_major": 2
            },
            "text/plain": [
              "  0%|          | 0/9912422 [00:00<?, ?it/s]"
            ]
          },
          "metadata": {}
        },
        {
          "output_type": "stream",
          "text": [
            "Extracting ./data/MNIST/raw/train-images-idx3-ubyte.gz to ./data/MNIST/raw\n",
            "\n",
            "Downloading http://yann.lecun.com/exdb/mnist/train-labels-idx1-ubyte.gz\n",
            "Downloading http://yann.lecun.com/exdb/mnist/train-labels-idx1-ubyte.gz to ./data/MNIST/raw/train-labels-idx1-ubyte.gz\n"
          ],
          "name": "stdout"
        },
        {
          "output_type": "display_data",
          "data": {
            "application/vnd.jupyter.widget-view+json": {
              "model_id": "fa9511d7430f49da91049cd8e5971c48",
              "version_minor": 0,
              "version_major": 2
            },
            "text/plain": [
              "  0%|          | 0/28881 [00:00<?, ?it/s]"
            ]
          },
          "metadata": {}
        },
        {
          "output_type": "stream",
          "text": [
            "Extracting ./data/MNIST/raw/train-labels-idx1-ubyte.gz to ./data/MNIST/raw\n",
            "\n",
            "Downloading http://yann.lecun.com/exdb/mnist/t10k-images-idx3-ubyte.gz\n",
            "Downloading http://yann.lecun.com/exdb/mnist/t10k-images-idx3-ubyte.gz to ./data/MNIST/raw/t10k-images-idx3-ubyte.gz\n"
          ],
          "name": "stdout"
        },
        {
          "output_type": "display_data",
          "data": {
            "application/vnd.jupyter.widget-view+json": {
              "model_id": "eaf1955382c3419485251c0ae6de0719",
              "version_minor": 0,
              "version_major": 2
            },
            "text/plain": [
              "  0%|          | 0/1648877 [00:00<?, ?it/s]"
            ]
          },
          "metadata": {}
        },
        {
          "output_type": "stream",
          "text": [
            "Extracting ./data/MNIST/raw/t10k-images-idx3-ubyte.gz to ./data/MNIST/raw\n",
            "\n",
            "Downloading http://yann.lecun.com/exdb/mnist/t10k-labels-idx1-ubyte.gz\n",
            "Downloading http://yann.lecun.com/exdb/mnist/t10k-labels-idx1-ubyte.gz to ./data/MNIST/raw/t10k-labels-idx1-ubyte.gz\n"
          ],
          "name": "stdout"
        },
        {
          "output_type": "display_data",
          "data": {
            "application/vnd.jupyter.widget-view+json": {
              "model_id": "7168c46724a84b52a5440d9e0487bf1d",
              "version_minor": 0,
              "version_major": 2
            },
            "text/plain": [
              "  0%|          | 0/4542 [00:00<?, ?it/s]"
            ]
          },
          "metadata": {}
        },
        {
          "output_type": "stream",
          "text": [
            "Extracting ./data/MNIST/raw/t10k-labels-idx1-ubyte.gz to ./data/MNIST/raw\n",
            "\n"
          ],
          "name": "stdout"
        },
        {
          "output_type": "stream",
          "text": [
            "/usr/local/lib/python3.7/dist-packages/torchvision/datasets/mnist.py:498: UserWarning: The given NumPy array is not writeable, and PyTorch does not support non-writeable tensors. This means you can write to the underlying (supposedly non-writeable) NumPy array using the tensor. You may want to copy the array to protect its data or make it writeable before converting it to a tensor. This type of warning will be suppressed for the rest of this program. (Triggered internally at  /pytorch/torch/csrc/utils/tensor_numpy.cpp:180.)\n",
            "  return torch.from_numpy(parsed.astype(m[2], copy=False)).view(*s)\n"
          ],
          "name": "stderr"
        }
      ]
    },
    {
      "cell_type": "markdown",
      "metadata": {
        "id": "TFP-SwbAgGFH"
      },
      "source": [
        "Ahora vamos a usar el data set de test, por eso hacemos train=False. Como no conocemos nada del dataset de test, lo normalizamos x la media y varianza del conjunto de entrenamiento."
      ]
    },
    {
      "cell_type": "code",
      "metadata": {
        "id": "nJa0kcfugBG8"
      },
      "source": [
        "mnist_test = datasets.MNIST('./data', train=False, download=True,\n",
        "                             transform=torchvision.transforms.Compose([\n",
        "                               torchvision.transforms.ToTensor(),\n",
        "                               torchvision.transforms.Normalize((0.1307,), (0.3081,))]))"
      ],
      "execution_count": null,
      "outputs": []
    },
    {
      "cell_type": "markdown",
      "metadata": {
        "id": "qrekLO4ukhba"
      },
      "source": [
        "Vamos a pasarle los parámetros de entrenamiento. "
      ]
    },
    {
      "cell_type": "code",
      "metadata": {
        "id": "XwflRBF0kloU",
        "colab": {
          "base_uri": "https://localhost:8080/"
        },
        "outputId": "22790b15-e41c-40cb-b376-708dbf1547dd"
      },
      "source": [
        "n_epochs = 100 #donde una época se da cuando le pasamos todo el conjunto de entramiento completo al modelo\n",
        "batch_size_train = 1000 #el minibatch es no pasarle los datos online ni todo el conjunto de datos en batch, sino pasarle de a pequeños pedacitos de batch. En este caso le vamos a pasar 64 imágenes y con esas 64 imágenes el modelo me va calcular la función de costos y corregir los valores de los parámetros\n",
        "batch_size_test = 1000 #como en el test no estoy entrenando por lo q podría pasarle todo el dataset de una, pero dada la capacidad de google de computo le paso 1000\n",
        "learning_rate = 0.001 #cuanto me voy a mover en la direccion del gradiente calculado\n",
        "momentum = 0.5 #es la correcion \n",
        "log_interval = 10 #esta es una variable para printear, le digo a la red printeame cada 10 valores\n",
        "\n",
        "random_seed = 1 #fijo la semilla de torch que es un numerito para el que le digo al generador de numeros aleatorios que me ponga siempre los mismos numeros aleatorios en los mismos lugares, es decir que el modelo se inicialice siempre igual \n",
        "torch.manual_seed(random_seed)"
      ],
      "execution_count": null,
      "outputs": [
        {
          "output_type": "execute_result",
          "data": {
            "text/plain": [
              "<torch._C.Generator at 0x7f8f394cfbb8>"
            ]
          },
          "metadata": {
            "tags": []
          },
          "execution_count": 5
        }
      ]
    },
    {
      "cell_type": "markdown",
      "metadata": {
        "id": "0Qn_RT5Bqehj"
      },
      "source": [
        "Para analizar los valores del learning rate y momentum podemos hacer una busqueda en grilla, pero moviendonos sobre lo que dice el estado del arte. Para learning rate 10^-1, 10^-2, 10^-3 es lo más usado. Mientras que para el momentum entre 0.5 y 0.9"
      ]
    },
    {
      "cell_type": "markdown",
      "metadata": {
        "id": "s05yApSSuL2H"
      },
      "source": [
        "Generamos los Dataloaders de entrenamiento y test, los mismos son iteradores creados sobre los conjuntos de datos de entrenamiento y test, que agrupan los datos en los batch, mezclan los datos si es necesario (con shuffle = true), etc.\n"
      ]
    },
    {
      "cell_type": "code",
      "metadata": {
        "id": "AeSNP-g9q2GD"
      },
      "source": [
        "train_loader = torch.utils.data.DataLoader(mnist_data, batch_size=batch_size_train, shuffle=True)\n",
        "test_loader = torch.utils.data.DataLoader(mnist_test, batch_size=batch_size_test)"
      ],
      "execution_count": null,
      "outputs": []
    },
    {
      "cell_type": "markdown",
      "metadata": {
        "id": "KNHiwzbAv_xp"
      },
      "source": [
        "Definimos una operación que, dada una imagen, la \"aplana\", generandome un vector a partir de la imagen. Esto me hace perder informacion, es decir al tener neuronas lineales pierdo la informacion x ej de la cercanía de los parámetros. "
      ]
    },
    {
      "cell_type": "code",
      "metadata": {
        "id": "umILF1J1v4Fw"
      },
      "source": [
        "class Flatten(nn.Module):\n",
        "    def forward(self, input):\n",
        "        return input.view(input.size(0), -1)"
      ],
      "execution_count": null,
      "outputs": []
    },
    {
      "cell_type": "markdown",
      "metadata": {
        "id": "SL3u2byJaZRo"
      },
      "source": [
        "Creamos el autoencoder para enseñar la identidad"
      ]
    },
    {
      "cell_type": "code",
      "metadata": {
        "id": "LKyrsHqHOmha"
      },
      "source": [
        "class autoencoder(nn.Module):\n",
        "    def __init__(self):\n",
        "        super(autoencoder, self).__init__()\n",
        "        self.linear1 = nn.Linear(784, 512)\n",
        "        self.drop = nn.Dropout(0.1)\n",
        "        self.linear2 = nn.Linear(512, 784)\n",
        "        self.relu = nn.ReLU()\n",
        "        self.flatten = Flatten()\n",
        "        \n",
        "    def forward(self, x):\n",
        "        x = self.flatten(x)\n",
        "        x = self.linear1(x)\n",
        "        x = self.drop(x)\n",
        "        x = self.relu(x)\n",
        "        x = self.linear2(x)\n",
        "        x = self.relu(x) #¿Hay q aplicar relu o no en la capa de salida?\n",
        "        return x"
      ],
      "execution_count": null,
      "outputs": []
    },
    {
      "cell_type": "code",
      "metadata": {
        "id": "3KyT9d3Gi63L"
      },
      "source": [
        "autoenc = autoencoder()\n",
        "optimizer = torch.optim.Adam(autoenc.parameters(), lr=0.001, betas=(0.9, 0.999), eps=1e-08, weight_decay=0, amsgrad=False)\n",
        "#optimizer = torch.optim.RMSprop(autoenc.parameters(), lr=0.001)\n",
        "#optimizer = torch.optim.SGD(autoenc.parameters(), lr=10)"
      ],
      "execution_count": null,
      "outputs": []
    },
    {
      "cell_type": "code",
      "metadata": {
        "id": "cOiI4F_Xi732"
      },
      "source": [
        "flatten = Flatten()"
      ],
      "execution_count": null,
      "outputs": []
    },
    {
      "cell_type": "code",
      "metadata": {
        "id": "QnHwVTE5jDHC"
      },
      "source": [
        "train_losses = []\n",
        "train_losses_drop = []\n",
        "train_counter = []\n",
        "test_losses = []\n",
        "test_counter = [i*len(train_loader.dataset) for i in range(n_epochs + 1)]"
      ],
      "execution_count": null,
      "outputs": []
    },
    {
      "cell_type": "code",
      "metadata": {
        "id": "45eU2asXjF8x"
      },
      "source": [
        "def train(epoch):\n",
        "    autoenc.train()\n",
        "    train_loss_drop = 0\n",
        "    crossent = nn.MSELoss()\n",
        "    for batch_idx, (data, target) in enumerate(train_loader):\n",
        "        optimizer.zero_grad()\n",
        "        output = autoenc(data)\n",
        "        loss = crossent(output, flatten(data))\n",
        "        train_loss_drop += loss.detach().item()\n",
        "        loss.backward()\n",
        "        optimizer.step()\n",
        "        if batch_idx % log_interval == 0:\n",
        "            print('Train Epoch: {} [{}/{} ({:.0f}%)]\\tLoss: {:.6f}'.format(\n",
        "                epoch, batch_idx * len(data), len(train_loader.dataset),\n",
        "                100. * batch_idx / len(train_loader), loss.item()))\n",
        "            train_counter.append(\n",
        "                (batch_idx*64) + ((epoch-1)*len(train_loader.dataset)))\n",
        "    train_loss_drop /= len(train_loader)\n",
        "    train_losses_drop.append(train_loss_drop)"
      ],
      "execution_count": null,
      "outputs": []
    },
    {
      "cell_type": "code",
      "metadata": {
        "id": "A7JrkqoojItV"
      },
      "source": [
        "def test():\n",
        "    crossent = nn.MSELoss()\n",
        "    autoenc.eval()\n",
        "    test_loss = 0\n",
        "    train_loss = 0\n",
        "    correct = 0\n",
        "    with torch.no_grad():\n",
        "        for data, target in test_loader:\n",
        "            output = autoenc(data)\n",
        "            test_loss += crossent(output, flatten(data)).item()\n",
        "            pred = output.data.max(1, keepdim=True)[1]\n",
        "            correct += pred.eq(target.data.view_as(pred)).sum()\n",
        "        for data, target in train_loader:\n",
        "            output = autoenc(data)\n",
        "            train_loss += crossent(output, flatten(data)).item()\n",
        "    train_loss /= len(train_loader)\n",
        "    test_loss /= len(test_loader)\n",
        "    test_losses.append(test_loss)\n",
        "    train_losses.append(train_loss)\n",
        "    print('\\nTest set: Avg. loss: {:.4f}, train loss: {} '.format(\n",
        "        test_loss, train_loss, len(test_loader.dataset)))"
      ],
      "execution_count": null,
      "outputs": []
    },
    {
      "cell_type": "code",
      "metadata": {
        "id": "OPevzK1JjOcG",
        "colab": {
          "base_uri": "https://localhost:8080/"
        },
        "outputId": "bf173df7-fb87-49d5-8528-46d4db069ef7"
      },
      "source": [
        "test()\n",
        "for epoch in range(1, 19 + 1):\n",
        "    train(epoch)\n",
        "    test()"
      ],
      "execution_count": null,
      "outputs": [
        {
          "output_type": "stream",
          "text": [
            "\n",
            "Test set: Avg. loss: 1.0379, train loss: 1.0233129382133483 \n",
            "Train Epoch: 1 [0/60000 (0%)]\tLoss: 1.023102\n",
            "Train Epoch: 1 [10000/60000 (17%)]\tLoss: 0.627596\n",
            "Train Epoch: 1 [20000/60000 (33%)]\tLoss: 0.483060\n",
            "Train Epoch: 1 [30000/60000 (50%)]\tLoss: 0.401913\n",
            "Train Epoch: 1 [40000/60000 (67%)]\tLoss: 0.363349\n",
            "Train Epoch: 1 [50000/60000 (83%)]\tLoss: 0.326973\n",
            "\n",
            "Test set: Avg. loss: 0.2816, train loss: 0.285541732609272 \n",
            "Train Epoch: 2 [0/60000 (0%)]\tLoss: 0.307850\n",
            "Train Epoch: 2 [10000/60000 (17%)]\tLoss: 0.293980\n",
            "Train Epoch: 2 [20000/60000 (33%)]\tLoss: 0.280510\n",
            "Train Epoch: 2 [30000/60000 (50%)]\tLoss: 0.271401\n",
            "Train Epoch: 2 [40000/60000 (67%)]\tLoss: 0.268739\n",
            "Train Epoch: 2 [50000/60000 (83%)]\tLoss: 0.262517\n",
            "\n",
            "Test set: Avg. loss: 0.2368, train loss: 0.23957694818576178 \n",
            "Train Epoch: 3 [0/60000 (0%)]\tLoss: 0.256342\n",
            "Train Epoch: 3 [10000/60000 (17%)]\tLoss: 0.252050\n",
            "Train Epoch: 3 [20000/60000 (33%)]\tLoss: 0.252055\n",
            "Train Epoch: 3 [30000/60000 (50%)]\tLoss: 0.250150\n",
            "Train Epoch: 3 [40000/60000 (67%)]\tLoss: 0.246639\n",
            "Train Epoch: 3 [50000/60000 (83%)]\tLoss: 0.246617\n",
            "\n",
            "Test set: Avg. loss: 0.2246, train loss: 0.22691820661226908 \n",
            "Train Epoch: 4 [0/60000 (0%)]\tLoss: 0.242318\n",
            "Train Epoch: 4 [10000/60000 (17%)]\tLoss: 0.243887\n",
            "Train Epoch: 4 [20000/60000 (33%)]\tLoss: 0.242871\n",
            "Train Epoch: 4 [30000/60000 (50%)]\tLoss: 0.241178\n",
            "Train Epoch: 4 [40000/60000 (67%)]\tLoss: 0.238628\n",
            "Train Epoch: 4 [50000/60000 (83%)]\tLoss: 0.240604\n",
            "\n",
            "Test set: Avg. loss: 0.2187, train loss: 0.2207131008307139 \n",
            "Train Epoch: 5 [0/60000 (0%)]\tLoss: 0.241488\n",
            "Train Epoch: 5 [10000/60000 (17%)]\tLoss: 0.234720\n",
            "Train Epoch: 5 [20000/60000 (33%)]\tLoss: 0.237666\n",
            "Train Epoch: 5 [30000/60000 (50%)]\tLoss: 0.235282\n",
            "Train Epoch: 5 [40000/60000 (67%)]\tLoss: 0.236996\n",
            "Train Epoch: 5 [50000/60000 (83%)]\tLoss: 0.234551\n",
            "\n",
            "Test set: Avg. loss: 0.2149, train loss: 0.2168519154191017 \n",
            "Train Epoch: 6 [0/60000 (0%)]\tLoss: 0.233839\n",
            "Train Epoch: 6 [10000/60000 (17%)]\tLoss: 0.230826\n",
            "Train Epoch: 6 [20000/60000 (33%)]\tLoss: 0.231260\n",
            "Train Epoch: 6 [30000/60000 (50%)]\tLoss: 0.233831\n",
            "Train Epoch: 6 [40000/60000 (67%)]\tLoss: 0.232259\n",
            "Train Epoch: 6 [50000/60000 (83%)]\tLoss: 0.231027\n",
            "\n",
            "Test set: Avg. loss: 0.2126, train loss: 0.2144155556956927 \n",
            "Train Epoch: 7 [0/60000 (0%)]\tLoss: 0.230415\n",
            "Train Epoch: 7 [10000/60000 (17%)]\tLoss: 0.230568\n",
            "Train Epoch: 7 [20000/60000 (33%)]\tLoss: 0.233334\n",
            "Train Epoch: 7 [30000/60000 (50%)]\tLoss: 0.227072\n",
            "Train Epoch: 7 [40000/60000 (67%)]\tLoss: 0.226713\n",
            "Train Epoch: 7 [50000/60000 (83%)]\tLoss: 0.228980\n",
            "\n",
            "Test set: Avg. loss: 0.2106, train loss: 0.21242308815320332 \n",
            "Train Epoch: 8 [0/60000 (0%)]\tLoss: 0.230850\n",
            "Train Epoch: 8 [10000/60000 (17%)]\tLoss: 0.231719\n",
            "Train Epoch: 8 [20000/60000 (33%)]\tLoss: 0.231541\n",
            "Train Epoch: 8 [30000/60000 (50%)]\tLoss: 0.230050\n",
            "Train Epoch: 8 [40000/60000 (67%)]\tLoss: 0.227974\n",
            "Train Epoch: 8 [50000/60000 (83%)]\tLoss: 0.226936\n",
            "\n",
            "Test set: Avg. loss: 0.2092, train loss: 0.2109979341427485 \n",
            "Train Epoch: 9 [0/60000 (0%)]\tLoss: 0.231196\n",
            "Train Epoch: 9 [10000/60000 (17%)]\tLoss: 0.223957\n",
            "Train Epoch: 9 [20000/60000 (33%)]\tLoss: 0.230463\n",
            "Train Epoch: 9 [30000/60000 (50%)]\tLoss: 0.228871\n",
            "Train Epoch: 9 [40000/60000 (67%)]\tLoss: 0.225126\n",
            "Train Epoch: 9 [50000/60000 (83%)]\tLoss: 0.227634\n",
            "\n",
            "Test set: Avg. loss: 0.2079, train loss: 0.2097204275429249 \n",
            "Train Epoch: 10 [0/60000 (0%)]\tLoss: 0.228250\n",
            "Train Epoch: 10 [10000/60000 (17%)]\tLoss: 0.225273\n",
            "Train Epoch: 10 [20000/60000 (33%)]\tLoss: 0.226055\n",
            "Train Epoch: 10 [30000/60000 (50%)]\tLoss: 0.223208\n",
            "Train Epoch: 10 [40000/60000 (67%)]\tLoss: 0.225300\n",
            "Train Epoch: 10 [50000/60000 (83%)]\tLoss: 0.224227\n",
            "\n",
            "Test set: Avg. loss: 0.2074, train loss: 0.20914018402496973 \n",
            "Train Epoch: 11 [0/60000 (0%)]\tLoss: 0.225228\n",
            "Train Epoch: 11 [10000/60000 (17%)]\tLoss: 0.224401\n",
            "Train Epoch: 11 [20000/60000 (33%)]\tLoss: 0.223798\n",
            "Train Epoch: 11 [30000/60000 (50%)]\tLoss: 0.225966\n",
            "Train Epoch: 11 [40000/60000 (67%)]\tLoss: 0.223680\n",
            "Train Epoch: 11 [50000/60000 (83%)]\tLoss: 0.225938\n",
            "\n",
            "Test set: Avg. loss: 0.2066, train loss: 0.20831065128246942 \n",
            "Train Epoch: 12 [0/60000 (0%)]\tLoss: 0.222344\n",
            "Train Epoch: 12 [10000/60000 (17%)]\tLoss: 0.225040\n",
            "Train Epoch: 12 [20000/60000 (33%)]\tLoss: 0.221975\n",
            "Train Epoch: 12 [30000/60000 (50%)]\tLoss: 0.229416\n",
            "Train Epoch: 12 [40000/60000 (67%)]\tLoss: 0.224817\n",
            "Train Epoch: 12 [50000/60000 (83%)]\tLoss: 0.223702\n",
            "\n",
            "Test set: Avg. loss: 0.2059, train loss: 0.20764591718713443 \n",
            "Train Epoch: 13 [0/60000 (0%)]\tLoss: 0.224866\n",
            "Train Epoch: 13 [10000/60000 (17%)]\tLoss: 0.223400\n",
            "Train Epoch: 13 [20000/60000 (33%)]\tLoss: 0.225696\n",
            "Train Epoch: 13 [30000/60000 (50%)]\tLoss: 0.222615\n",
            "Train Epoch: 13 [40000/60000 (67%)]\tLoss: 0.222644\n",
            "Train Epoch: 13 [50000/60000 (83%)]\tLoss: 0.221462\n",
            "\n",
            "Test set: Avg. loss: 0.2048, train loss: 0.20651225447654725 \n",
            "Train Epoch: 14 [0/60000 (0%)]\tLoss: 0.221606\n",
            "Train Epoch: 14 [10000/60000 (17%)]\tLoss: 0.221353\n",
            "Train Epoch: 14 [20000/60000 (33%)]\tLoss: 0.220819\n",
            "Train Epoch: 14 [30000/60000 (50%)]\tLoss: 0.222638\n",
            "Train Epoch: 14 [40000/60000 (67%)]\tLoss: 0.223695\n",
            "Train Epoch: 14 [50000/60000 (83%)]\tLoss: 0.223223\n",
            "\n",
            "Test set: Avg. loss: 0.2042, train loss: 0.20592516536513963 \n",
            "Train Epoch: 15 [0/60000 (0%)]\tLoss: 0.222868\n",
            "Train Epoch: 15 [10000/60000 (17%)]\tLoss: 0.223486\n",
            "Train Epoch: 15 [20000/60000 (33%)]\tLoss: 0.220336\n",
            "Train Epoch: 15 [30000/60000 (50%)]\tLoss: 0.220638\n",
            "Train Epoch: 15 [40000/60000 (67%)]\tLoss: 0.223644\n",
            "Train Epoch: 15 [50000/60000 (83%)]\tLoss: 0.221130\n",
            "\n",
            "Test set: Avg. loss: 0.2036, train loss: 0.20535298436880112 \n",
            "Train Epoch: 16 [0/60000 (0%)]\tLoss: 0.219030\n",
            "Train Epoch: 16 [10000/60000 (17%)]\tLoss: 0.220855\n",
            "Train Epoch: 16 [20000/60000 (33%)]\tLoss: 0.221499\n",
            "Train Epoch: 16 [30000/60000 (50%)]\tLoss: 0.218541\n",
            "Train Epoch: 16 [40000/60000 (67%)]\tLoss: 0.220033\n",
            "Train Epoch: 16 [50000/60000 (83%)]\tLoss: 0.218629\n",
            "\n",
            "Test set: Avg. loss: 0.2031, train loss: 0.2047993761797746 \n",
            "Train Epoch: 17 [0/60000 (0%)]\tLoss: 0.220859\n",
            "Train Epoch: 17 [10000/60000 (17%)]\tLoss: 0.222718\n",
            "Train Epoch: 17 [20000/60000 (33%)]\tLoss: 0.216906\n",
            "Train Epoch: 17 [30000/60000 (50%)]\tLoss: 0.222207\n",
            "Train Epoch: 17 [40000/60000 (67%)]\tLoss: 0.222691\n",
            "Train Epoch: 17 [50000/60000 (83%)]\tLoss: 0.217233\n",
            "\n",
            "Test set: Avg. loss: 0.2026, train loss: 0.20425622090697287 \n",
            "Train Epoch: 18 [0/60000 (0%)]\tLoss: 0.219019\n",
            "Train Epoch: 18 [10000/60000 (17%)]\tLoss: 0.222103\n",
            "Train Epoch: 18 [20000/60000 (33%)]\tLoss: 0.219819\n",
            "Train Epoch: 18 [30000/60000 (50%)]\tLoss: 0.223184\n",
            "Train Epoch: 18 [40000/60000 (67%)]\tLoss: 0.220397\n",
            "Train Epoch: 18 [50000/60000 (83%)]\tLoss: 0.220907\n",
            "\n",
            "Test set: Avg. loss: 0.2025, train loss: 0.20418672064940135 \n",
            "Train Epoch: 19 [0/60000 (0%)]\tLoss: 0.219057\n",
            "Train Epoch: 19 [10000/60000 (17%)]\tLoss: 0.218086\n",
            "Train Epoch: 19 [20000/60000 (33%)]\tLoss: 0.217755\n",
            "Train Epoch: 19 [30000/60000 (50%)]\tLoss: 0.218752\n",
            "Train Epoch: 19 [40000/60000 (67%)]\tLoss: 0.220865\n",
            "Train Epoch: 19 [50000/60000 (83%)]\tLoss: 0.219048\n",
            "\n",
            "Test set: Avg. loss: 0.2021, train loss: 0.20379667257269224 \n"
          ],
          "name": "stdout"
        }
      ]
    },
    {
      "cell_type": "code",
      "metadata": {
        "colab": {
          "base_uri": "https://localhost:8080/"
        },
        "id": "1f8xPKtW1qvp",
        "outputId": "afdc06eb-8810-4d32-cf0e-33d99cf23dab"
      },
      "source": [
        "print(train_losses) \"train_losses es un array con los average de test y del train \""
      ],
      "execution_count": null,
      "outputs": [
        {
          "output_type": "stream",
          "text": [
            "[1.0233129382133483, 0.285541732609272, 0.23957694818576178, 0.22691820661226908, 0.2207131008307139, 0.2168519154191017, 0.2144155556956927, 0.21242308815320332, 0.2109979341427485, 0.2097204275429249, 0.20914018402496973, 0.20831065128246942, 0.20764591718713443, 0.20651225447654725, 0.20592516536513963, 0.20535298436880112, 0.2047993761797746, 0.20425622090697287, 0.20418672064940135, 0.20379667257269224]\n"
          ],
          "name": "stdout"
        }
      ]
    },
    {
      "cell_type": "markdown",
      "metadata": {
        "id": "3dhTz8J2wNHW"
      },
      "source": [
        "Usamos como optimization function ADAM y guardamos el error en una función llamada test_lossesADAM, para despúes poder graficarlo con la RMSprop"
      ]
    },
    {
      "cell_type": "code",
      "metadata": {
        "id": "RbVudTIdZ5g3"
      },
      "source": [
        ""
      ],
      "execution_count": null,
      "outputs": []
    },
    {
      "cell_type": "code",
      "metadata": {
        "id": "yejPMiFfwN1u"
      },
      "source": [
        "test_lossesADAM = test_losses"
      ],
      "execution_count": null,
      "outputs": []
    },
    {
      "cell_type": "markdown",
      "metadata": {
        "id": "wm21a1fwwq4D"
      },
      "source": [
        "Ahora usamos como optimization function RMSprop y guardamos el error en una función llamada test_lossesRMSprop. De esta forma vamos a poder plotear ambos errores de testeo juntos y ver cuál conviene seguir usando"
      ]
    },
    {
      "cell_type": "code",
      "metadata": {
        "id": "VvGW7K6cx1DV"
      },
      "source": [
        "test_lossesRMSprop = test_losses"
      ],
      "execution_count": null,
      "outputs": []
    },
    {
      "cell_type": "markdown",
      "metadata": {
        "id": "bwkjGv1u2gSp"
      },
      "source": [
        "también se incorporará en el gráfico una tercera línea que representará el error de testeo con SGD"
      ]
    },
    {
      "cell_type": "code",
      "metadata": {
        "id": "JGxgwco92g21"
      },
      "source": [
        "test_lossesSGD = test_losses"
      ],
      "execution_count": null,
      "outputs": []
    },
    {
      "cell_type": "markdown",
      "metadata": {
        "id": "q34qzWhpymt5"
      },
      "source": [
        "Graficamos ambos en un mismo gráfico para analizar comportamientos: "
      ]
    },
    {
      "cell_type": "code",
      "metadata": {
        "colab": {
          "base_uri": "https://localhost:8080/",
          "height": 312
        },
        "id": "TQITxj60x1h7",
        "outputId": "87ffaefe-044d-40ba-ec43-0f409e744a0f"
      },
      "source": [
        "fig, ax = plt.subplots()\n",
        "ax.plot(test_lossesADAM,label='Error de testeo usando ADAM')\n",
        "ax.plot(test_lossesRMSprop,label='Error de testeo usando RMSprop')\n",
        "ax.plot(test_lossesSGD,label='Error de testeo usando SGD')\n",
        "ax.set_title(\"Error de testeo: ADAM vs RMSprop vs SGD\")\n",
        "ax.set_xlabel('Épocas')  \n",
        "ax.set_ylabel('Error')\n",
        "ax.legend()\n"
      ],
      "execution_count": null,
      "outputs": [
        {
          "output_type": "execute_result",
          "data": {
            "text/plain": [
              "<matplotlib.legend.Legend at 0x7fa96f1c0780>"
            ]
          },
          "metadata": {
            "tags": []
          },
          "execution_count": 99
        },
        {
          "output_type": "display_data",
          "data": {
            "image/png": "[encoded data removed]",
            "text/plain": [
              "<Figure size 432x288 with 1 Axes>"
            ]
          },
          "metadata": {
            "tags": [],
            "needs_background": "light"
          }
        }
      ]
    },
    {
      "cell_type": "code",
      "metadata": {
        "id": "-n_aepX764LJ",
        "colab": {
          "base_uri": "https://localhost:8080/",
          "height": 310
        },
        "outputId": "363bbf52-82cb-49ce-ad2f-277cdcd09b5b"
      },
      "source": [
        "plt.plot(train_losses)\n",
        "plt.title(\"Train losses (ADAM)\")\n",
        "plt.ylabel('Train_losses')\n",
        "plt.xlabel('Epochs')"
      ],
      "execution_count": null,
      "outputs": [
        {
          "output_type": "execute_result",
          "data": {
            "text/plain": [
              "Text(0.5, 0, 'Epochs')"
            ]
          },
          "metadata": {
            "tags": []
          },
          "execution_count": 112
        },
        {
          "output_type": "display_data",
          "data": {
            "image/png": "[encoded data removed]",
            "text/plain": [
              "<Figure size 432x288 with 1 Axes>"
            ]
          },
          "metadata": {
            "tags": [],
            "needs_background": "light"
          }
        }
      ]
    },
    {
      "cell_type": "code",
      "metadata": {
        "id": "c5cxuDqL7Jjj",
        "colab": {
          "base_uri": "https://localhost:8080/",
          "height": 310
        },
        "outputId": "3a992c0b-7863-482d-f7c6-68da51428f70"
      },
      "source": [
        "plt.plot(test_losses)\n",
        "plt.title(\"Test losses (ADAM)\")\n",
        "plt.ylabel('Test_losses')\n",
        "plt.xlabel('Train Epoch')"
      ],
      "execution_count": null,
      "outputs": [
        {
          "output_type": "execute_result",
          "data": {
            "text/plain": [
              "Text(0.5, 0, 'Train Epoch')"
            ]
          },
          "metadata": {
            "tags": []
          },
          "execution_count": 143
        },
        {
          "output_type": "display_data",
          "data": {
            "image/png": "[encoded data removed]",
            "text/plain": [
              "<Figure size 432x288 with 1 Axes>"
            ]
          },
          "metadata": {
            "tags": [],
            "needs_background": "light"
          }
        }
      ]
    },
    {
      "cell_type": "markdown",
      "metadata": {
        "id": "WHYal8q2Ajeu"
      },
      "source": [
        "A continuación tenemos que hacer 2 gráficos donde se junte la red con 64, 128, 256 y 512 neuronas en la capa oculta y ver cómo mejora el proceso de aprendizaje. "
      ]
    },
    {
      "cell_type": "markdown",
      "metadata": {
        "id": "G7zQtfdtA3ky"
      },
      "source": [
        "Capa de 64 neuronas:"
      ]
    },
    {
      "cell_type": "code",
      "metadata": {
        "id": "ULL4VqZtAkDS"
      },
      "source": [
        "test_losses64 = test_losses\n",
        "train_losses64 = train_losses"
      ],
      "execution_count": null,
      "outputs": []
    },
    {
      "cell_type": "markdown",
      "metadata": {
        "id": "zdDg3W_7BRbb"
      },
      "source": [
        "Capa de 128 neuronas: "
      ]
    },
    {
      "cell_type": "code",
      "metadata": {
        "id": "AfSUdnz7BV9z"
      },
      "source": [
        "test_losses128 = test_losses\n",
        "train_losses128 = train_losses"
      ],
      "execution_count": null,
      "outputs": []
    },
    {
      "cell_type": "markdown",
      "metadata": {
        "id": "L9c1xc21BrZ1"
      },
      "source": [
        "capa de 256 neuronas: "
      ]
    },
    {
      "cell_type": "code",
      "metadata": {
        "id": "OcY0lj37Dxye"
      },
      "source": [
        "test_losses256 = test_losses\n",
        "train_losses256 = train_losses "
      ],
      "execution_count": null,
      "outputs": []
    },
    {
      "cell_type": "markdown",
      "metadata": {
        "id": "ZlteWwD4FUjS"
      },
      "source": [
        "capa de 512 neuronas"
      ]
    },
    {
      "cell_type": "code",
      "metadata": {
        "id": "lGoxneR0FVRQ"
      },
      "source": [
        "test_losses512 = test_losses\n",
        "train_losses512 = train_losses "
      ],
      "execution_count": null,
      "outputs": []
    },
    {
      "cell_type": "markdown",
      "metadata": {
        "id": "DkT9li_BHkWP"
      },
      "source": [
        "Todas las capas en un sólo gráfico. Primero se verá el error de entrenamiento de las mismas y luego el de testeo: "
      ]
    },
    {
      "cell_type": "code",
      "metadata": {
        "colab": {
          "base_uri": "https://localhost:8080/",
          "height": 327
        },
        "id": "SNaFskKlHr1G",
        "outputId": "022f346b-b60d-4be5-d4e2-d3140b81e4e1"
      },
      "source": [
        "fig, ax = plt.subplots()\n",
        "ax.plot(train_losses64,label='Con una capa oculta de 64 neuronas')\n",
        "ax.plot(train_losses128,label='Con una capa oculta de 128 neuronas')\n",
        "ax.plot(train_losses256,label='Con una capa oculta de 256 neuronas')\n",
        "ax.plot(train_losses512, label='Con una capa oculta de 512 neuronas')\n",
        "ax.set_title(\"Errores de entrenamiento \\n\")\n",
        "ax.set_xlabel('Épocas')  \n",
        "ax.set_ylabel('Error')\n",
        "ax.legend()"
      ],
      "execution_count": null,
      "outputs": [
        {
          "output_type": "execute_result",
          "data": {
            "text/plain": [
              "<matplotlib.legend.Legend at 0x7fa96e6b20f0>"
            ]
          },
          "metadata": {
            "tags": []
          },
          "execution_count": 150
        },
        {
          "output_type": "display_data",
          "data": {
            "image/png": "[encoded data removed]",
            "text/plain": [
              "<Figure size 432x288 with 1 Axes>"
            ]
          },
          "metadata": {
            "tags": [],
            "needs_background": "light"
          }
        }
      ]
    },
    {
      "cell_type": "code",
      "metadata": {
        "colab": {
          "base_uri": "https://localhost:8080/",
          "height": 327
        },
        "id": "NS7E0yEUJE7N",
        "outputId": "533ef6bd-2325-41fe-bd9c-2da8a7db76ec"
      },
      "source": [
        "fig, ax = plt.subplots()\n",
        "ax.plot(test_losses64,label='Con una capa oculta de 64 neuronas')\n",
        "ax.plot(test_losses128,label='Con una capa oculta de 128 neuronas')\n",
        "ax.plot(test_losses256,label='Con una capa oculta de 256 neuronas')\n",
        "ax.plot(test_losses512, label='Con una capa oculta de 512 neuronas')\n",
        "ax.set_title(\"Errores de testeo \\n\")\n",
        "ax.set_xlabel('Épocas')  \n",
        "ax.set_ylabel('Error')\n",
        "ax.legend()"
      ],
      "execution_count": null,
      "outputs": [
        {
          "output_type": "execute_result",
          "data": {
            "text/plain": [
              "<matplotlib.legend.Legend at 0x7fa96e5c4d68>"
            ]
          },
          "metadata": {
            "tags": []
          },
          "execution_count": 151
        },
        {
          "output_type": "display_data",
          "data": {
            "image/png": "[encoded data removed]",
            "text/plain": [
              "<Figure size 432x288 with 1 Axes>"
            ]
          },
          "metadata": {
            "tags": [],
            "needs_background": "light"
          }
        }
      ]
    },
    {
      "cell_type": "code",
      "metadata": {
        "id": "v9mDFxhCjS6o"
      },
      "source": [
        "from scipy.special import expit"
      ],
      "execution_count": null,
      "outputs": []
    },
    {
      "cell_type": "code",
      "metadata": {
        "id": "flYfMwUTjT6y"
      },
      "source": [
        "number = 4"
      ],
      "execution_count": null,
      "outputs": []
    },
    {
      "cell_type": "code",
      "metadata": {
        "id": "kXsLcz3bjWxj",
        "colab": {
          "base_uri": "https://localhost:8080/",
          "height": 296
        },
        "outputId": "774b1e99-2201-4c97-f369-2e1f6a877eb0"
      },
      "source": [
        "plt.imshow(flatten(mnist_test[number][0]).reshape([28,28]), cmap='gray')\n",
        "plt.title(\"Número obtenido del dataset MNIST\")\n"
      ],
      "execution_count": null,
      "outputs": [
        {
          "output_type": "execute_result",
          "data": {
            "text/plain": [
              "Text(0.5, 1.0, 'Número obtenido del dataset MNIST')"
            ]
          },
          "metadata": {
            "tags": []
          },
          "execution_count": 107
        },
        {
          "output_type": "display_data",
          "data": {
            "image/png": "[encoded data removed]",
            "text/plain": [
              "<Figure size 432x288 with 1 Axes>"
            ]
          },
          "metadata": {
            "tags": [],
            "needs_background": "light"
          }
        }
      ]
    },
    {
      "cell_type": "code",
      "metadata": {
        "id": "mIrKOk5kjahN",
        "colab": {
          "base_uri": "https://localhost:8080/",
          "height": 311
        },
        "outputId": "37258326-dca0-4411-ee4b-173f56931181"
      },
      "source": [
        "plt.imshow(autoenc(flatten(mnist_test[number][0]).unsqueeze(0)).detach().numpy().reshape([28,28]), cmap = 'gray')\n",
        "plt.title(\"Número replicado por medio del autoencoder y \\n usando como optimization function la función ADAM\")\n"
      ],
      "execution_count": null,
      "outputs": [
        {
          "output_type": "execute_result",
          "data": {
            "text/plain": [
              "Text(0.5, 1.0, 'Número replicado por medio del autoencoder y \\n usando como optimization function la función ADAM')"
            ]
          },
          "metadata": {
            "tags": []
          },
          "execution_count": 152
        },
        {
          "output_type": "display_data",
          "data": {
            "image/png": "[encoded data removed]",
            "text/plain": [
              "<Figure size 432x288 with 1 Axes>"
            ]
          },
          "metadata": {
            "tags": [],
            "needs_background": "light"
          }
        }
      ]
    },
    {
      "cell_type": "code",
      "metadata": {
        "id": "CUuZLFsxjeKz",
        "colab": {
          "base_uri": "https://localhost:8080/",
          "height": 312
        },
        "outputId": "4f2acf79-53ff-419b-ec7e-8e23acc89965"
      },
      "source": [
        "fig, ax = plt.subplots()\n",
        "ax.plot(test_losses, label='Error de testeo')\n",
        "ax.plot(train_losses, label='Error de entrenamiento')\n",
        "ax.set_title(\"Error de entramiento y de testeo\")\n",
        "ax.set_xlabel('Épocas')  \n",
        "ax.set_ylabel('Error')\n",
        "ax.legend()"
      ],
      "execution_count": null,
      "outputs": [
        {
          "output_type": "execute_result",
          "data": {
            "text/plain": [
              "<matplotlib.legend.Legend at 0x7fa96f548b70>"
            ]
          },
          "metadata": {
            "tags": []
          },
          "execution_count": 64
        },
        {
          "output_type": "display_data",
          "data": {
            "image/png": "[encoded data removed]",
            "text/plain": [
              "<Figure size 432x288 with 1 Axes>"
            ]
          },
          "metadata": {
            "tags": [],
            "needs_background": "light"
          }
        }
      ]
    }
  ]
}